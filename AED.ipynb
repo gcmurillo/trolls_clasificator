{
 "cells": [
  {
   "cell_type": "code",
   "execution_count": 93,
   "metadata": {},
   "outputs": [
    {
     "name": "stderr",
     "output_type": "stream",
     "text": [
      "[nltk_data] Downloading package stopwords to\n",
      "[nltk_data]     C:\\Users\\geancarlo\\AppData\\Roaming\\nltk_data...\n",
      "[nltk_data]   Package stopwords is already up-to-date!\n",
      "[nltk_data] Downloading package punkt to\n",
      "[nltk_data]     C:\\Users\\geancarlo\\AppData\\Roaming\\nltk_data...\n",
      "[nltk_data]   Package punkt is already up-to-date!\n"
     ]
    }
   ],
   "source": [
    "import pandas as pd\n",
    "import numpy as np\n",
    "from sklearn import feature_extraction\n",
    "import nltk\n",
    "nltk.download('stopwords')\n",
    "nltk.download('punkt')\n",
    "from nltk.corpus import stopwords\n",
    "from nltk.tokenize import TweetTokenizer\n",
    "from nltk.stem.snowball import SnowballStemmer\n",
    "from nltk import collocations\n",
    "import re, string\n",
    "import matplotlib\n",
    "import matplotlib.pyplot as plt\n",
    "from sklearn import preprocessing\n",
    "from scipy import sparse\n",
    "from sklearn import linear_model\n",
    "plt.rcParams['figure.figsize'] = [16, 6]"
   ]
  },
  {
   "cell_type": "code",
   "execution_count": 31,
   "metadata": {},
   "outputs": [],
   "source": [
    "def getxy(row_s, row_f, feature_cols=['content', 'followers', 'following', 'retweet'], label_col=['troll']):\n",
    "    return df[feature_cols][row_s:row_f], df[label_col][row_s:row_f]"
   ]
  },
  {
   "cell_type": "code",
   "execution_count": 95,
   "metadata": {},
   "outputs": [],
   "source": [
    "df_trolls = pd.read_csv(\"dataset_troll_trial.csv\")\n",
    "df_users = pd.read_csv(\"dataset_users.csv\")\n",
    "df = pd.concat([df_trolls, df_users])"
   ]
  },
  {
   "cell_type": "code",
   "execution_count": 106,
   "metadata": {},
   "outputs": [
    {
     "data": {
      "text/html": [
       "<div>\n",
       "<style scoped>\n",
       "    .dataframe tbody tr th:only-of-type {\n",
       "        vertical-align: middle;\n",
       "    }\n",
       "\n",
       "    .dataframe tbody tr th {\n",
       "        vertical-align: top;\n",
       "    }\n",
       "\n",
       "    .dataframe thead th {\n",
       "        text-align: right;\n",
       "    }\n",
       "</style>\n",
       "<table border=\"1\" class=\"dataframe\">\n",
       "  <thead>\n",
       "    <tr style=\"text-align: right;\">\n",
       "      <th></th>\n",
       "      <th>content</th>\n",
       "      <th>followers</th>\n",
       "      <th>following</th>\n",
       "      <th>retweet</th>\n",
       "      <th>created_at</th>\n",
       "      <th>troll</th>\n",
       "      <th>emoticones</th>\n",
       "      <th>sin_stopwords</th>\n",
       "    </tr>\n",
       "  </thead>\n",
       "  <tbody>\n",
       "    <tr>\n",
       "      <th>773</th>\n",
       "      <td>Chocolates 😂😝</td>\n",
       "      <td>357</td>\n",
       "      <td>673</td>\n",
       "      <td>False</td>\n",
       "      <td>2019-08-07 21:52:52</td>\n",
       "      <td>False</td>\n",
       "      <td>😂 😝</td>\n",
       "      <td>chocolates</td>\n",
       "    </tr>\n",
       "    <tr>\n",
       "      <th>672</th>\n",
       "      <td>RT @atipak: Se mueren del miedo. Les aterra qu...</td>\n",
       "      <td>55</td>\n",
       "      <td>12</td>\n",
       "      <td>True</td>\n",
       "      <td>2019-08-17 20:26:19</td>\n",
       "      <td>True</td>\n",
       "      <td></td>\n",
       "      <td>mueren miedo aterra barran urnas empiezan trat...</td>\n",
       "    </tr>\n",
       "    <tr>\n",
       "      <th>154</th>\n",
       "      <td>RT @kevlex_pazmino1: Admiro tu humildad; tu se...</td>\n",
       "      <td>14</td>\n",
       "      <td>184</td>\n",
       "      <td>True</td>\n",
       "      <td>2019-07-20 05:11:49</td>\n",
       "      <td>False</td>\n",
       "      <td></td>\n",
       "      <td>admiro humildad sencillez inteligencia forma p...</td>\n",
       "    </tr>\n",
       "    <tr>\n",
       "      <th>1261</th>\n",
       "      <td>RT @elcomerciocom: #ATENCIÓN | Capturado en Co...</td>\n",
       "      <td>35</td>\n",
       "      <td>187</td>\n",
       "      <td>True</td>\n",
       "      <td>2019-08-11 18:19:32</td>\n",
       "      <td>True</td>\n",
       "      <td>»</td>\n",
       "      <td>atención capturado colombia disidente farc imp...</td>\n",
       "    </tr>\n",
       "    <tr>\n",
       "      <th>98</th>\n",
       "      <td>@FEGASG Con gusto Don Chulquero; pela verga; c...</td>\n",
       "      <td>2</td>\n",
       "      <td>16</td>\n",
       "      <td>False</td>\n",
       "      <td>2019-08-14 18:58:55</td>\n",
       "      <td>True</td>\n",
       "      <td></td>\n",
       "      <td>gusto chulquero pela verga cara chancho</td>\n",
       "    </tr>\n",
       "  </tbody>\n",
       "</table>\n",
       "</div>"
      ],
      "text/plain": [
       "                                                content  followers  following  \\\n",
       "773                                       Chocolates 😂😝        357        673   \n",
       "672   RT @atipak: Se mueren del miedo. Les aterra qu...         55         12   \n",
       "154   RT @kevlex_pazmino1: Admiro tu humildad; tu se...         14        184   \n",
       "1261  RT @elcomerciocom: #ATENCIÓN | Capturado en Co...         35        187   \n",
       "98    @FEGASG Con gusto Don Chulquero; pela verga; c...          2         16   \n",
       "\n",
       "      retweet           created_at  troll emoticones  \\\n",
       "773     False  2019-08-07 21:52:52  False        😂 😝   \n",
       "672      True  2019-08-17 20:26:19   True              \n",
       "154      True  2019-07-20 05:11:49  False              \n",
       "1261     True  2019-08-11 18:19:32   True          »   \n",
       "98      False  2019-08-14 18:58:55   True              \n",
       "\n",
       "                                          sin_stopwords  \n",
       "773                                          chocolates  \n",
       "672   mueren miedo aterra barran urnas empiezan trat...  \n",
       "154   admiro humildad sencillez inteligencia forma p...  \n",
       "1261  atención capturado colombia disidente farc imp...  \n",
       "98              gusto chulquero pela verga cara chancho  "
      ]
     },
     "execution_count": 106,
     "metadata": {},
     "output_type": "execute_result"
    }
   ],
   "source": [
    "df.sample(5).head()"
   ]
  },
  {
   "cell_type": "code",
   "execution_count": 107,
   "metadata": {},
   "outputs": [
    {
     "data": {
      "text/plain": [
       "(3972, 8)"
      ]
     },
     "execution_count": 107,
     "metadata": {},
     "output_type": "execute_result"
    }
   ],
   "source": [
    "df.shape"
   ]
  },
  {
   "cell_type": "code",
   "execution_count": 97,
   "metadata": {},
   "outputs": [
    {
     "data": {
      "text/plain": [
       "False    2423\n",
       "True     1549\n",
       "Name: retweet, dtype: int64"
      ]
     },
     "execution_count": 97,
     "metadata": {},
     "output_type": "execute_result"
    }
   ],
   "source": [
    "df['retweet'].value_counts()"
   ]
  },
  {
   "cell_type": "code",
   "execution_count": 98,
   "metadata": {},
   "outputs": [
    {
     "data": {
      "text/plain": [
       "False    2580\n",
       "True     1392\n",
       "Name: troll, dtype: int64"
      ]
     },
     "execution_count": 98,
     "metadata": {},
     "output_type": "execute_result"
    }
   ],
   "source": [
    "df['troll'].value_counts()"
   ]
  },
  {
   "cell_type": "code",
   "execution_count": 99,
   "metadata": {},
   "outputs": [],
   "source": [
    "stopwords_set = stopwords.words('spanish')\n",
    "stopwords_set.extend(stopwords.words('english'))\n",
    "stopwords_set = set(stopwords_set)"
   ]
  },
  {
   "cell_type": "code",
   "execution_count": 100,
   "metadata": {},
   "outputs": [],
   "source": [
    "tweets_hashtags = set([])\n",
    "tweets_full_lemmas = set([])"
   ]
  },
  {
   "cell_type": "code",
   "execution_count": 9,
   "metadata": {},
   "outputs": [],
   "source": [
    "def limpieza_tweet(tweets):\n",
    "    # quitando icons\n",
    "    tweet = tweets[\"content\"].lower()\n",
    "    sin_icons = re.sub(r'\\$\\w*','',tweet)\n",
    "    # obteniendo palabras\n",
    "    tw_Tokenizer = TweetTokenizer(strip_handles=True, reduce_len=True)\n",
    "    temp_tweet_list = tw_Tokenizer.tokenize(sin_icons)\n",
    "    # quitando urls/direcciones\n",
    "    sin_https = [re.sub(r'https?:\\/\\/.*\\/\\w*|t.co\\/\\w*','',i) for i in temp_tweet_list]\n",
    "    # quitando hashtags\n",
    "    tweets_hashtags.update(sin_https)\n",
    "    sin_hashtags = [re.sub(r'#|https', '', i) for i in sin_https]\n",
    "    # quitando signos de puntuación\n",
    "    sin_puntuacion = [re.sub(r'[' + string.punctuation + ']+', ' ', i) for i in sin_hashtags]\n",
    "    sin_puntuacion = [re.sub(r'[“’—‘”–…]+', ' ', i) for i in sin_puntuacion]\n",
    "    \n",
    "    new_tweet = ' '.join(sin_puntuacion)\n",
    "    filtrada_palabras = tw_Tokenizer.tokenize(new_tweet)\n",
    "    filtrada_palabras = [re.sub(r'^\\w\\w?$', '', i) for i in filtrada_palabras]\n",
    "    \n",
    "    filtrada =' '.join(filtrada_palabras)\n",
    "    tweet_final = re.sub(r'\\s\\s+', ' ', filtrada)\n",
    "    # quitando stopwords\n",
    "    tweet_final = tweet_final.strip(' ').split(' ')\n",
    "    sin_stopwords = [i for i in tweet_final if (i.lower() not in stopwords_set and len(i)>1 and not i.isdigit())]\n",
    "    #obteniendo los emoticones para luego analizar\n",
    "    emoticones = [i for i in tweet_final if (i.lower() not in stopwords_set and len(i)==1) ]\n",
    "    # obtiendo lemas\n",
    "    tweets_full_lemmas.update(sin_stopwords)\n",
    "    tweets[\"emoticones\"] = ' '.join(emoticones)\n",
    "    tweets[\"sin_stopwords\"] = ' '.join(sin_stopwords)\n",
    "    return tweets"
   ]
  },
  {
   "cell_type": "code",
   "execution_count": 101,
   "metadata": {},
   "outputs": [],
   "source": [
    "df = df.apply(limpieza_tweet, axis=1)"
   ]
  },
  {
   "cell_type": "code",
   "execution_count": 102,
   "metadata": {},
   "outputs": [
    {
     "data": {
      "text/html": [
       "<div>\n",
       "<style scoped>\n",
       "    .dataframe tbody tr th:only-of-type {\n",
       "        vertical-align: middle;\n",
       "    }\n",
       "\n",
       "    .dataframe tbody tr th {\n",
       "        vertical-align: top;\n",
       "    }\n",
       "\n",
       "    .dataframe thead th {\n",
       "        text-align: right;\n",
       "    }\n",
       "</style>\n",
       "<table border=\"1\" class=\"dataframe\">\n",
       "  <thead>\n",
       "    <tr style=\"text-align: right;\">\n",
       "      <th></th>\n",
       "      <th>content</th>\n",
       "      <th>followers</th>\n",
       "      <th>following</th>\n",
       "      <th>retweet</th>\n",
       "      <th>created_at</th>\n",
       "      <th>troll</th>\n",
       "      <th>emoticones</th>\n",
       "      <th>sin_stopwords</th>\n",
       "    </tr>\n",
       "  </thead>\n",
       "  <tbody>\n",
       "    <tr>\n",
       "      <th>503</th>\n",
       "      <td>@CNEL_EP Gracias  CNEL EP</td>\n",
       "      <td>1</td>\n",
       "      <td>36</td>\n",
       "      <td>False</td>\n",
       "      <td>2019-08-16 12:25:33</td>\n",
       "      <td>True</td>\n",
       "      <td></td>\n",
       "      <td>gracias cnel</td>\n",
       "    </tr>\n",
       "    <tr>\n",
       "      <th>418</th>\n",
       "      <td>@PPKbancada @YeseniaPonceV Esperamos que @CFlo...</td>\n",
       "      <td>1092</td>\n",
       "      <td>1692</td>\n",
       "      <td>False</td>\n",
       "      <td>2019-08-15 21:58:26</td>\n",
       "      <td>False</td>\n",
       "      <td></td>\n",
       "      <td>esperamos vaya final allí sólo lealtad compañe...</td>\n",
       "    </tr>\n",
       "    <tr>\n",
       "      <th>1157</th>\n",
       "      <td>RT @jcarlostuarez: Sufrí linchamiento mediátic...</td>\n",
       "      <td>11</td>\n",
       "      <td>217</td>\n",
       "      <td>True</td>\n",
       "      <td>2019-08-17 15:56:35</td>\n",
       "      <td>True</td>\n",
       "      <td></td>\n",
       "      <td>sufrí linchamiento mediático persecución polít...</td>\n",
       "    </tr>\n",
       "    <tr>\n",
       "      <th>1325</th>\n",
       "      <td>@eluniversocom Todo lo que está pasando es cul...</td>\n",
       "      <td>1</td>\n",
       "      <td>63</td>\n",
       "      <td>False</td>\n",
       "      <td>2019-05-07 10:04:22</td>\n",
       "      <td>True</td>\n",
       "      <td></td>\n",
       "      <td>pasando culpa correa</td>\n",
       "    </tr>\n",
       "    <tr>\n",
       "      <th>218</th>\n",
       "      <td>QUITO: Representantes de Yasunidos continúan c...</td>\n",
       "      <td>9516</td>\n",
       "      <td>1128</td>\n",
       "      <td>False</td>\n",
       "      <td>2019-08-16 15:02:15</td>\n",
       "      <td>False</td>\n",
       "      <td></td>\n",
       "      <td>quito representantes yasunidos continúan toma ...</td>\n",
       "    </tr>\n",
       "  </tbody>\n",
       "</table>\n",
       "</div>"
      ],
      "text/plain": [
       "                                                content  followers  following  \\\n",
       "503                           @CNEL_EP Gracias  CNEL EP          1         36   \n",
       "418   @PPKbancada @YeseniaPonceV Esperamos que @CFlo...       1092       1692   \n",
       "1157  RT @jcarlostuarez: Sufrí linchamiento mediátic...         11        217   \n",
       "1325  @eluniversocom Todo lo que está pasando es cul...          1         63   \n",
       "218   QUITO: Representantes de Yasunidos continúan c...       9516       1128   \n",
       "\n",
       "      retweet           created_at  troll emoticones  \\\n",
       "503     False  2019-08-16 12:25:33   True              \n",
       "418     False  2019-08-15 21:58:26  False              \n",
       "1157     True  2019-08-17 15:56:35   True              \n",
       "1325    False  2019-05-07 10:04:22   True              \n",
       "218     False  2019-08-16 15:02:15  False              \n",
       "\n",
       "                                          sin_stopwords  \n",
       "503                                        gracias cnel  \n",
       "418   esperamos vaya final allí sólo lealtad compañe...  \n",
       "1157  sufrí linchamiento mediático persecución polít...  \n",
       "1325                               pasando culpa correa  \n",
       "218   quito representantes yasunidos continúan toma ...  "
      ]
     },
     "execution_count": 102,
     "metadata": {},
     "output_type": "execute_result"
    }
   ],
   "source": [
    "df.sample(5).head()"
   ]
  },
  {
   "cell_type": "code",
   "execution_count": 103,
   "metadata": {},
   "outputs": [],
   "source": [
    "texto = df[\"sin_stopwords\"].str.lower().str.replace(r'\\|', ' ').str.cat(sep=' ')\n",
    "palabras = nltk.tokenize.word_tokenize(texto, language=\"spanish\")\n",
    "distribucion = nltk.FreqDist(palabras)\n",
    "frecuencia = pd.DataFrame(distribucion.most_common(20),columns=['Palabra', 'Frequencia']).set_index('Palabra')"
   ]
  },
  {
   "cell_type": "code",
   "execution_count": 104,
   "metadata": {},
   "outputs": [
    {
     "data": {
      "text/plain": [
       "<matplotlib.axes._subplots.AxesSubplot at 0x1f8ad9c5400>"
      ]
     },
     "execution_count": 104,
     "metadata": {},
     "output_type": "execute_result"
    },
    {
     "data": {
      "image/png": "[encoded data removed]",
      "text/plain": [
       "<Figure size 1152x432 with 1 Axes>"
      ]
     },
     "metadata": {},
     "output_type": "display_data"
    }
   ],
   "source": [
    "matplotlib.style.use('ggplot')\n",
    "frecuencia.plot.bar(rot=0, color=\"blue\")"
   ]
  },
  {
   "cell_type": "code",
   "execution_count": 105,
   "metadata": {},
   "outputs": [],
   "source": [
    "df = df.sample(frac=1)"
   ]
  },
  {
   "cell_type": "code",
   "execution_count": 108,
   "metadata": {},
   "outputs": [],
   "source": [
    "X_train, y_train = getxy(0,2972)"
   ]
  },
  {
   "cell_type": "code",
   "execution_count": 109,
   "metadata": {},
   "outputs": [],
   "source": [
    "X_test, y_test = getxy(2973,3971)"
   ]
  },
  {
   "cell_type": "code",
   "execution_count": 110,
   "metadata": {},
   "outputs": [
    {
     "data": {
      "text/plain": [
       "((2972, 4), (998, 1))"
      ]
     },
     "execution_count": 110,
     "metadata": {},
     "output_type": "execute_result"
    }
   ],
   "source": [
    "X_train.shape, y_test.shape"
   ]
  },
  {
   "cell_type": "code",
   "execution_count": 111,
   "metadata": {},
   "outputs": [
    {
     "data": {
      "text/plain": [
       "((998, 4), (998, 1))"
      ]
     },
     "execution_count": 111,
     "metadata": {},
     "output_type": "execute_result"
    }
   ],
   "source": [
    "X_test.shape, y_test.shape"
   ]
  },
  {
   "cell_type": "markdown",
   "metadata": {},
   "source": [
    "### Tokenize words"
   ]
  },
  {
   "cell_type": "code",
   "execution_count": 112,
   "metadata": {},
   "outputs": [],
   "source": [
    "vocab_size=5000\n",
    "tokenizer=feature_extraction.text.CountVectorizer(stop_words=stopwords_set, max_features=vocab_size)\n",
    "tokenizer=tokenizer.fit(df['sin_stopwords'])"
   ]
  },
  {
   "cell_type": "code",
   "execution_count": 113,
   "metadata": {},
   "outputs": [],
   "source": [
    "X_train_tok=tokenizer.transform(X_train['content'])\n",
    "X_test_tok=tokenizer.transform(X_test['content'])"
   ]
  },
  {
   "cell_type": "markdown",
   "metadata": {},
   "source": [
    "### Standarize followers/following"
   ]
  },
  {
   "cell_type": "code",
   "execution_count": 114,
   "metadata": {},
   "outputs": [],
   "source": [
    "scaler = preprocessing.StandardScaler().fit(X_train[['followers','following']])"
   ]
  },
  {
   "cell_type": "code",
   "execution_count": 118,
   "metadata": {},
   "outputs": [
    {
     "data": {
      "text/plain": [
       "'rand means and scales: [2848.76177658  603.73485868], [19260.73220381  1479.42450242]'"
      ]
     },
     "execution_count": 118,
     "metadata": {},
     "output_type": "execute_result"
    }
   ],
   "source": [
    "'rand means and scales: {}, {}'.format(scaler.mean_, scaler.scale_)"
   ]
  },
  {
   "cell_type": "code",
   "execution_count": 119,
   "metadata": {},
   "outputs": [],
   "source": [
    "col_to_std = ['followers', 'following']\n",
    "X_train[col_to_std]=scaler.transform(X_train[col_to_std])\n",
    "X_test[col_to_std]=scaler.transform(X_test[col_to_std])"
   ]
  },
  {
   "cell_type": "code",
   "execution_count": 120,
   "metadata": {},
   "outputs": [
    {
     "data": {
      "text/html": [
       "<div>\n",
       "<style scoped>\n",
       "    .dataframe tbody tr th:only-of-type {\n",
       "        vertical-align: middle;\n",
       "    }\n",
       "\n",
       "    .dataframe tbody tr th {\n",
       "        vertical-align: top;\n",
       "    }\n",
       "\n",
       "    .dataframe thead th {\n",
       "        text-align: right;\n",
       "    }\n",
       "</style>\n",
       "<table border=\"1\" class=\"dataframe\">\n",
       "  <thead>\n",
       "    <tr style=\"text-align: right;\">\n",
       "      <th></th>\n",
       "      <th>followers</th>\n",
       "      <th>following</th>\n",
       "    </tr>\n",
       "  </thead>\n",
       "  <tbody>\n",
       "    <tr>\n",
       "      <th>2046</th>\n",
       "      <td>-0.147913</td>\n",
       "      <td>-0.408364</td>\n",
       "    </tr>\n",
       "    <tr>\n",
       "      <th>583</th>\n",
       "      <td>-0.147913</td>\n",
       "      <td>-0.408364</td>\n",
       "    </tr>\n",
       "    <tr>\n",
       "      <th>2269</th>\n",
       "      <td>-0.147913</td>\n",
       "      <td>-0.408363</td>\n",
       "    </tr>\n",
       "    <tr>\n",
       "      <th>2255</th>\n",
       "      <td>-0.147913</td>\n",
       "      <td>-0.408364</td>\n",
       "    </tr>\n",
       "    <tr>\n",
       "      <th>336</th>\n",
       "      <td>-0.147913</td>\n",
       "      <td>-0.408364</td>\n",
       "    </tr>\n",
       "  </tbody>\n",
       "</table>\n",
       "</div>"
      ],
      "text/plain": [
       "      followers  following\n",
       "2046  -0.147913  -0.408364\n",
       "583   -0.147913  -0.408364\n",
       "2269  -0.147913  -0.408363\n",
       "2255  -0.147913  -0.408364\n",
       "336   -0.147913  -0.408364"
      ]
     },
     "execution_count": 120,
     "metadata": {},
     "output_type": "execute_result"
    }
   ],
   "source": [
    "X_train[col_to_std].head()"
   ]
  },
  {
   "cell_type": "markdown",
   "metadata": {},
   "source": [
    "### Binarize outcome"
   ]
  },
  {
   "cell_type": "code",
   "execution_count": 121,
   "metadata": {},
   "outputs": [
    {
     "data": {
      "text/html": [
       "<div>\n",
       "<style scoped>\n",
       "    .dataframe tbody tr th:only-of-type {\n",
       "        vertical-align: middle;\n",
       "    }\n",
       "\n",
       "    .dataframe tbody tr th {\n",
       "        vertical-align: top;\n",
       "    }\n",
       "\n",
       "    .dataframe thead th {\n",
       "        text-align: right;\n",
       "    }\n",
       "</style>\n",
       "<table border=\"1\" class=\"dataframe\">\n",
       "  <thead>\n",
       "    <tr style=\"text-align: right;\">\n",
       "      <th></th>\n",
       "      <th>troll</th>\n",
       "    </tr>\n",
       "  </thead>\n",
       "  <tbody>\n",
       "    <tr>\n",
       "      <th>2046</th>\n",
       "      <td>False</td>\n",
       "    </tr>\n",
       "    <tr>\n",
       "      <th>583</th>\n",
       "      <td>False</td>\n",
       "    </tr>\n",
       "    <tr>\n",
       "      <th>2269</th>\n",
       "      <td>False</td>\n",
       "    </tr>\n",
       "    <tr>\n",
       "      <th>2255</th>\n",
       "      <td>False</td>\n",
       "    </tr>\n",
       "    <tr>\n",
       "      <th>336</th>\n",
       "      <td>False</td>\n",
       "    </tr>\n",
       "  </tbody>\n",
       "</table>\n",
       "</div>"
      ],
      "text/plain": [
       "      troll\n",
       "2046  False\n",
       "583   False\n",
       "2269  False\n",
       "2255  False\n",
       "336   False"
      ]
     },
     "execution_count": 121,
     "metadata": {},
     "output_type": "execute_result"
    }
   ],
   "source": [
    "y_train.head()"
   ]
  },
  {
   "cell_type": "code",
   "execution_count": 124,
   "metadata": {},
   "outputs": [],
   "source": [
    "bool_to_bin = lambda x: 1 if x else 0\n",
    "y_train['troll'] = y_train['troll'].apply(bool_to_bin)\n",
    "y_test['troll'] = y_test['troll'].apply(bool_to_bin)\n",
    "\n",
    "# binarize retweet colum\n",
    "X_train['retweet'] = X_train['retweet'].apply(bool_to_bin)\n",
    "X_test['retweet'] = X_test['retweet'].apply(bool_to_bin)"
   ]
  },
  {
   "cell_type": "markdown",
   "metadata": {},
   "source": [
    "### Concatenate features"
   ]
  },
  {
   "cell_type": "code",
   "execution_count": 125,
   "metadata": {},
   "outputs": [],
   "source": [
    "def concatenate_features(tok_matrix, data_df):\n",
    "    \"\"\" concatenate the tokenized matrix (scipy.sparse) with other features \"\"\"\n",
    "    sparse_cols = sparse.csr_matrix(data_df[['followers', 'following', 'retweet']])\n",
    "    combined = sparse.hstack([tok_matrix, sparse_cols])\n",
    "    return combined"
   ]
  },
  {
   "cell_type": "code",
   "execution_count": 126,
   "metadata": {},
   "outputs": [],
   "source": [
    "X_train_combined = concatenate_features(X_train_tok, X_train)\n",
    "X_test_combined = concatenate_features(X_test_tok, X_test)"
   ]
  },
  {
   "cell_type": "code",
   "execution_count": 127,
   "metadata": {},
   "outputs": [
    {
     "data": {
      "text/plain": [
       "(2972, 5003)"
      ]
     },
     "execution_count": 127,
     "metadata": {},
     "output_type": "execute_result"
    }
   ],
   "source": [
    "X_train_combined.shape"
   ]
  },
  {
   "cell_type": "markdown",
   "metadata": {},
   "source": [
    "## Training the model - Logistic Regresion"
   ]
  },
  {
   "cell_type": "code",
   "execution_count": 128,
   "metadata": {},
   "outputs": [
    {
     "name": "stderr",
     "output_type": "stream",
     "text": [
      "C:\\Users\\geancarlo\\Anaconda3\\lib\\site-packages\\sklearn\\linear_model\\logistic.py:432: FutureWarning: Default solver will be changed to 'lbfgs' in 0.22. Specify a solver to silence this warning.\n",
      "  FutureWarning)\n"
     ]
    }
   ],
   "source": [
    "logic_model = linear_model.LogisticRegression().fit(X_train_combined, y_train['troll'])"
   ]
  },
  {
   "cell_type": "code",
   "execution_count": 130,
   "metadata": {},
   "outputs": [
    {
     "data": {
      "text/plain": [
       "0.9313593539703903"
      ]
     },
     "execution_count": 130,
     "metadata": {},
     "output_type": "execute_result"
    }
   ],
   "source": [
    "logic_model.score(X_train_combined, y_train['troll'])"
   ]
  },
  {
   "cell_type": "code",
   "execution_count": 131,
   "metadata": {},
   "outputs": [
    {
     "data": {
      "text/plain": [
       "0.7925851703406813"
      ]
     },
     "execution_count": 131,
     "metadata": {},
     "output_type": "execute_result"
    }
   ],
   "source": [
    "logic_model.score(X_test_combined, y_test['troll'])"
   ]
  },
  {
   "cell_type": "code",
   "execution_count": null,
   "metadata": {},
   "outputs": [],
   "source": []
  }
 ],
 "metadata": {
  "kernelspec": {
   "display_name": "Python 3",
   "language": "python",
   "name": "python3"
  },
  "language_info": {
   "codemirror_mode": {
    "name": "ipython",
    "version": 3
   },
   "file_extension": ".py",
   "mimetype": "text/x-python",
   "name": "python",
   "nbconvert_exporter": "python",
   "pygments_lexer": "ipython3",
   "version": "3.7.3"
  }
 },
 "nbformat": 4,
 "nbformat_minor": 2
}
