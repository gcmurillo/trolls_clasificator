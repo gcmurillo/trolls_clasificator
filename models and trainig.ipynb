{
 "cells": [
  {
   "cell_type": "code",
   "execution_count": 1,
   "metadata": {},
   "outputs": [
    {
     "name": "stderr",
     "output_type": "stream",
     "text": [
      "[nltk_data] Downloading package stopwords to\n",
      "[nltk_data]     C:\\Users\\geancarlo\\AppData\\Roaming\\nltk_data...\n",
      "[nltk_data]   Package stopwords is already up-to-date!\n",
      "[nltk_data] Downloading package punkt to\n",
      "[nltk_data]     C:\\Users\\geancarlo\\AppData\\Roaming\\nltk_data...\n",
      "[nltk_data]   Package punkt is already up-to-date!\n"
     ]
    }
   ],
   "source": [
    "import pandas as pd\n",
    "import numpy as np\n",
    "from sklearn import feature_extraction\n",
    "import nltk\n",
    "nltk.download('stopwords')\n",
    "nltk.download('punkt')\n",
    "from nltk.corpus import stopwords\n",
    "from nltk.tokenize import TweetTokenizer\n",
    "from nltk.stem.snowball import SnowballStemmer\n",
    "from nltk import collocations\n",
    "import re, string\n",
    "import matplotlib\n",
    "import matplotlib.pyplot as plt\n",
    "from sklearn import preprocessing\n",
    "from scipy import sparse\n",
    "from sklearn import linear_model\n",
    "plt.rcParams['figure.figsize'] = [16, 6]"
   ]
  },
  {
   "cell_type": "code",
   "execution_count": 2,
   "metadata": {},
   "outputs": [],
   "source": [
    "def getxy(row_s, row_f, feature_cols=['content', 'followers', 'following', 'retweet'], label_col=['troll']):\n",
    "    return df[feature_cols][row_s:row_f], df[label_col][row_s:row_f]"
   ]
  },
  {
   "cell_type": "code",
   "execution_count": 3,
   "metadata": {},
   "outputs": [],
   "source": [
    "df_trolls = pd.read_csv(\"dataset_troll_all.csv\")\n",
    "df_users = pd.read_csv(\"dataset_users_trial.csv\")\n",
    "df = pd.concat([df_trolls, df_users])"
   ]
  },
  {
   "cell_type": "code",
   "execution_count": 4,
   "metadata": {},
   "outputs": [
    {
     "data": {
      "text/html": [
       "<div>\n",
       "<style scoped>\n",
       "    .dataframe tbody tr th:only-of-type {\n",
       "        vertical-align: middle;\n",
       "    }\n",
       "\n",
       "    .dataframe tbody tr th {\n",
       "        vertical-align: top;\n",
       "    }\n",
       "\n",
       "    .dataframe thead th {\n",
       "        text-align: right;\n",
       "    }\n",
       "</style>\n",
       "<table border=\"1\" class=\"dataframe\">\n",
       "  <thead>\n",
       "    <tr style=\"text-align: right;\">\n",
       "      <th></th>\n",
       "      <th>content</th>\n",
       "      <th>followers</th>\n",
       "      <th>following</th>\n",
       "      <th>retweet</th>\n",
       "      <th>created_at</th>\n",
       "      <th>troll</th>\n",
       "    </tr>\n",
       "  </thead>\n",
       "  <tbody>\n",
       "    <tr>\n",
       "      <th>96186</th>\n",
       "      <td>@Vivi_GuevaraV @forajida57 @JorgeGlas @MashiRa...</td>\n",
       "      <td>210.0</td>\n",
       "      <td>87.0</td>\n",
       "      <td>False</td>\n",
       "      <td>2019-05-06 17:55:48</td>\n",
       "      <td>True</td>\n",
       "    </tr>\n",
       "    <tr>\n",
       "      <th>108108</th>\n",
       "      <td>RT @ActualidadRT: Putin sobre las palabras de ...</td>\n",
       "      <td>23.0</td>\n",
       "      <td>42.0</td>\n",
       "      <td>True</td>\n",
       "      <td>2019-07-05 03:27:07</td>\n",
       "      <td>True</td>\n",
       "    </tr>\n",
       "    <tr>\n",
       "      <th>69284</th>\n",
       "      <td>RT @alevancor: Bastaría una resolución del CPC...</td>\n",
       "      <td>7.0</td>\n",
       "      <td>22.0</td>\n",
       "      <td>True</td>\n",
       "      <td>2019-07-06 12:12:56</td>\n",
       "      <td>True</td>\n",
       "    </tr>\n",
       "    <tr>\n",
       "      <th>5790</th>\n",
       "      <td>@Majindice @jfnc1966 LA CONSTITUCION LO DICE</td>\n",
       "      <td>59.0</td>\n",
       "      <td>137.0</td>\n",
       "      <td>False</td>\n",
       "      <td>2018-03-29 16:55:19</td>\n",
       "      <td>False</td>\n",
       "    </tr>\n",
       "    <tr>\n",
       "      <th>67230</th>\n",
       "      <td>RT @solbuendia: Los ciudadanos han sido partíc...</td>\n",
       "      <td>14.0</td>\n",
       "      <td>12.0</td>\n",
       "      <td>True</td>\n",
       "      <td>2019-07-20 03:06:47</td>\n",
       "      <td>True</td>\n",
       "    </tr>\n",
       "  </tbody>\n",
       "</table>\n",
       "</div>"
      ],
      "text/plain": [
       "                                                  content  followers  \\\n",
       "96186   @Vivi_GuevaraV @forajida57 @JorgeGlas @MashiRa...      210.0   \n",
       "108108  RT @ActualidadRT: Putin sobre las palabras de ...       23.0   \n",
       "69284   RT @alevancor: Bastaría una resolución del CPC...        7.0   \n",
       "5790         @Majindice @jfnc1966 LA CONSTITUCION LO DICE       59.0   \n",
       "67230   RT @solbuendia: Los ciudadanos han sido partíc...       14.0   \n",
       "\n",
       "        following retweet           created_at  troll  \n",
       "96186        87.0   False  2019-05-06 17:55:48   True  \n",
       "108108       42.0    True  2019-07-05 03:27:07   True  \n",
       "69284        22.0    True  2019-07-06 12:12:56   True  \n",
       "5790        137.0   False  2018-03-29 16:55:19  False  \n",
       "67230        12.0    True  2019-07-20 03:06:47   True  "
      ]
     },
     "execution_count": 4,
     "metadata": {},
     "output_type": "execute_result"
    }
   ],
   "source": [
    "df.sample(5).head()"
   ]
  },
  {
   "cell_type": "code",
   "execution_count": 5,
   "metadata": {},
   "outputs": [
    {
     "data": {
      "text/plain": [
       "(191448, 6)"
      ]
     },
     "execution_count": 5,
     "metadata": {},
     "output_type": "execute_result"
    }
   ],
   "source": [
    "df.shape"
   ]
  },
  {
   "cell_type": "code",
   "execution_count": 6,
   "metadata": {},
   "outputs": [],
   "source": [
    "df = df.dropna()"
   ]
  },
  {
   "cell_type": "code",
   "execution_count": 7,
   "metadata": {},
   "outputs": [
    {
     "data": {
      "text/plain": [
       "False"
      ]
     },
     "execution_count": 7,
     "metadata": {},
     "output_type": "execute_result"
    }
   ],
   "source": [
    "df.isnull().values.any()"
   ]
  },
  {
   "cell_type": "code",
   "execution_count": 8,
   "metadata": {},
   "outputs": [
    {
     "data": {
      "text/plain": [
       "True     107190\n",
       "False     84251\n",
       "Name: retweet, dtype: int64"
      ]
     },
     "execution_count": 8,
     "metadata": {},
     "output_type": "execute_result"
    }
   ],
   "source": [
    "df['retweet'].value_counts()"
   ]
  },
  {
   "cell_type": "code",
   "execution_count": 9,
   "metadata": {},
   "outputs": [
    {
     "data": {
      "text/plain": [
       "True     166681\n",
       "False     24760\n",
       "Name: troll, dtype: int64"
      ]
     },
     "execution_count": 9,
     "metadata": {},
     "output_type": "execute_result"
    }
   ],
   "source": [
    "df['troll'].value_counts()"
   ]
  },
  {
   "cell_type": "code",
   "execution_count": 10,
   "metadata": {},
   "outputs": [],
   "source": [
    "stopwords_set = stopwords.words('spanish')\n",
    "stopwords_set.extend(stopwords.words('english'))\n",
    "stopwords_set = set(stopwords_set)"
   ]
  },
  {
   "cell_type": "code",
   "execution_count": 11,
   "metadata": {},
   "outputs": [],
   "source": [
    "tweets_hashtags = set([])\n",
    "tweets_full_lemmas = set([])"
   ]
  },
  {
   "cell_type": "code",
   "execution_count": 12,
   "metadata": {},
   "outputs": [],
   "source": [
    "def limpieza_tweet(tweets):\n",
    "    # quitando icons\n",
    "    tweet = tweets[\"content\"].lower()\n",
    "    sin_icons = re.sub(r'\\$\\w*','',tweet)\n",
    "    # obteniendo palabras\n",
    "    tw_Tokenizer = TweetTokenizer(strip_handles=True, reduce_len=True)\n",
    "    temp_tweet_list = tw_Tokenizer.tokenize(sin_icons)\n",
    "    # quitando urls/direcciones\n",
    "    sin_https = [re.sub(r'https?:\\/\\/.*\\/\\w*|t.co\\/\\w*','',i) for i in temp_tweet_list]\n",
    "    # quitando hashtags\n",
    "    tweets_hashtags.update(sin_https)\n",
    "    sin_hashtags = [re.sub(r'#|https', '', i) for i in sin_https]\n",
    "    # quitando signos de puntuación\n",
    "    sin_puntuacion = [re.sub(r'[' + string.punctuation + ']+', ' ', i) for i in sin_hashtags]\n",
    "    sin_puntuacion = [re.sub(r'[“’—‘”–…]+', ' ', i) for i in sin_puntuacion]\n",
    "    \n",
    "    new_tweet = ' '.join(sin_puntuacion)\n",
    "    filtrada_palabras = tw_Tokenizer.tokenize(new_tweet)\n",
    "    filtrada_palabras = [re.sub(r'^\\w\\w?$', '', i) for i in filtrada_palabras]\n",
    "    \n",
    "    filtrada =' '.join(filtrada_palabras)\n",
    "    tweet_final = re.sub(r'\\s\\s+', ' ', filtrada)\n",
    "    # quitando stopwords\n",
    "    tweet_final = tweet_final.strip(' ').split(' ')\n",
    "    sin_stopwords = [i for i in tweet_final if (i.lower() not in stopwords_set and len(i)>1 and not i.isdigit())]\n",
    "    #obteniendo los emoticones para luego analizar\n",
    "    emoticones = [i for i in tweet_final if (i.lower() not in stopwords_set and len(i)==1) ]\n",
    "    # obtiendo lemas\n",
    "    tweets_full_lemmas.update(sin_stopwords)\n",
    "    tweets[\"emoticones\"] = ' '.join(emoticones)\n",
    "    tweets[\"sin_stopwords\"] = ' '.join(sin_stopwords)\n",
    "    return tweets"
   ]
  },
  {
   "cell_type": "code",
   "execution_count": 13,
   "metadata": {},
   "outputs": [],
   "source": [
    "def time_analysis(df):\n",
    "    \"\"\"\n",
    "    Return weekday (0-6) and interval (0-3)\n",
    "    \"\"\"\n",
    "    from_zone = tz.gettz('UTC')\n",
    "    to_zone = tz.gettz('America/New_York')\n",
    "    utc = df['date']\n",
    "    utc = utc.replace(tzinfo=from_zone)\n",
    "    central = utc.astimezone(to_zone)\n",
    "    day = central.weekday()\n",
    "    hour = central.hour\n",
    "    if 0 <= hour < 6:\n",
    "        return day, 0\n",
    "    elif 6 <= hour < 12:\n",
    "        return day, 1\n",
    "    elif 12 <= hour < 18:\n",
    "        return day, 2\n",
    "    elif 18 <= hour < 24:\n",
    "        return day, 3"
   ]
  },
  {
   "cell_type": "code",
   "execution_count": 14,
   "metadata": {},
   "outputs": [],
   "source": [
    "df = df.apply(limpieza_tweet, axis=1)"
   ]
  },
  {
   "cell_type": "code",
   "execution_count": 15,
   "metadata": {},
   "outputs": [],
   "source": [
    "df['created_at'] = pd.to_datetime(pd.to_datetime(df['created_at']))"
   ]
  },
  {
   "cell_type": "code",
   "execution_count": 16,
   "metadata": {},
   "outputs": [
    {
     "data": {
      "text/html": [
       "<div>\n",
       "<style scoped>\n",
       "    .dataframe tbody tr th:only-of-type {\n",
       "        vertical-align: middle;\n",
       "    }\n",
       "\n",
       "    .dataframe tbody tr th {\n",
       "        vertical-align: top;\n",
       "    }\n",
       "\n",
       "    .dataframe thead th {\n",
       "        text-align: right;\n",
       "    }\n",
       "</style>\n",
       "<table border=\"1\" class=\"dataframe\">\n",
       "  <thead>\n",
       "    <tr style=\"text-align: right;\">\n",
       "      <th></th>\n",
       "      <th>content</th>\n",
       "      <th>followers</th>\n",
       "      <th>following</th>\n",
       "      <th>retweet</th>\n",
       "      <th>created_at</th>\n",
       "      <th>troll</th>\n",
       "      <th>emoticones</th>\n",
       "      <th>sin_stopwords</th>\n",
       "    </tr>\n",
       "  </thead>\n",
       "  <tbody>\n",
       "    <tr>\n",
       "      <th>154304</th>\n",
       "      <td>@Davidlu37185739 @Lenin ROBOLUCION LA DECADA R...</td>\n",
       "      <td>34.0</td>\n",
       "      <td>187.0</td>\n",
       "      <td>False</td>\n",
       "      <td>2017-08-18 15:13:37</td>\n",
       "      <td>True</td>\n",
       "      <td></td>\n",
       "      <td>robolucion decada robada</td>\n",
       "    </tr>\n",
       "    <tr>\n",
       "      <th>163842</th>\n",
       "      <td>RT @Richar68453806: @inapapersmoreno Sabiamos ...</td>\n",
       "      <td>18.0</td>\n",
       "      <td>62.0</td>\n",
       "      <td>True</td>\n",
       "      <td>2019-05-31 01:00:22</td>\n",
       "      <td>True</td>\n",
       "      <td></td>\n",
       "      <td>sabiamos pillastre alta gama</td>\n",
       "    </tr>\n",
       "    <tr>\n",
       "      <th>108821</th>\n",
       "      <td>RT @MashiRoberto: Criminales. La historia será...</td>\n",
       "      <td>23.0</td>\n",
       "      <td>42.0</td>\n",
       "      <td>True</td>\n",
       "      <td>2019-05-30 12:32:48</td>\n",
       "      <td>True</td>\n",
       "      <td></td>\n",
       "      <td>criminales historia despiadada</td>\n",
       "    </tr>\n",
       "    <tr>\n",
       "      <th>98726</th>\n",
       "      <td>RT @luly_alban: Jaja jajaja;  me voy a reir ha...</td>\n",
       "      <td>803.0</td>\n",
       "      <td>516.0</td>\n",
       "      <td>True</td>\n",
       "      <td>2019-07-07 20:01:38</td>\n",
       "      <td>True</td>\n",
       "      <td></td>\n",
       "      <td>jaja jajaja voy reir caigan muelas còmo tarzàn...</td>\n",
       "    </tr>\n",
       "    <tr>\n",
       "      <th>118566</th>\n",
       "      <td>RT @MashiRafael: Murió a los 73 años Corona Av...</td>\n",
       "      <td>338.0</td>\n",
       "      <td>88.0</td>\n",
       "      <td>True</td>\n",
       "      <td>2019-06-26 01:40:47</td>\n",
       "      <td>True</td>\n",
       "      <td></td>\n",
       "      <td>murió años corona aveiga zambrano madre cinthy...</td>\n",
       "    </tr>\n",
       "  </tbody>\n",
       "</table>\n",
       "</div>"
      ],
      "text/plain": [
       "                                                  content  followers  \\\n",
       "154304  @Davidlu37185739 @Lenin ROBOLUCION LA DECADA R...       34.0   \n",
       "163842  RT @Richar68453806: @inapapersmoreno Sabiamos ...       18.0   \n",
       "108821  RT @MashiRoberto: Criminales. La historia será...       23.0   \n",
       "98726   RT @luly_alban: Jaja jajaja;  me voy a reir ha...      803.0   \n",
       "118566  RT @MashiRafael: Murió a los 73 años Corona Av...      338.0   \n",
       "\n",
       "        following  retweet          created_at  troll emoticones  \\\n",
       "154304      187.0    False 2017-08-18 15:13:37   True              \n",
       "163842       62.0     True 2019-05-31 01:00:22   True              \n",
       "108821       42.0     True 2019-05-30 12:32:48   True              \n",
       "98726       516.0     True 2019-07-07 20:01:38   True              \n",
       "118566       88.0     True 2019-06-26 01:40:47   True              \n",
       "\n",
       "                                            sin_stopwords  \n",
       "154304                           robolucion decada robada  \n",
       "163842                       sabiamos pillastre alta gama  \n",
       "108821                     criminales historia despiadada  \n",
       "98726   jaja jajaja voy reir caigan muelas còmo tarzàn...  \n",
       "118566  murió años corona aveiga zambrano madre cinthy...  "
      ]
     },
     "execution_count": 16,
     "metadata": {},
     "output_type": "execute_result"
    }
   ],
   "source": [
    "df.sample(5).head()"
   ]
  },
  {
   "cell_type": "code",
   "execution_count": 17,
   "metadata": {},
   "outputs": [],
   "source": [
    "texto = df[\"sin_stopwords\"].str.lower().str.replace(r'\\|', ' ').str.cat(sep=' ')\n",
    "palabras = nltk.tokenize.word_tokenize(texto, language=\"spanish\")\n",
    "distribucion = nltk.FreqDist(palabras)\n",
    "frecuencia = pd.DataFrame(distribucion.most_common(20),columns=['Palabra', 'Frequencia']).set_index('Palabra')"
   ]
  },
  {
   "cell_type": "code",
   "execution_count": 20,
   "metadata": {},
   "outputs": [
    {
     "data": {
      "text/plain": [
       "<matplotlib.axes._subplots.AxesSubplot at 0x1e0bcf9b438>"
      ]
     },
     "execution_count": 20,
     "metadata": {},
     "output_type": "execute_result"
    },
    {
     "data": {
      "image/png": "[encoded data removed]",
      "text/plain": [
       "<Figure size 432x288 with 1 Axes>"
      ]
     },
     "metadata": {},
     "output_type": "display_data"
    }
   ],
   "source": [
    "matplotlib.style.use('ggplot')\n",
    "frecuencia.plot.bar(rot=0, color=\"blue\")"
   ]
  },
  {
   "cell_type": "code",
   "execution_count": 21,
   "metadata": {},
   "outputs": [],
   "source": [
    "df = df.sample(frac=1)"
   ]
  },
  {
   "cell_type": "code",
   "execution_count": 22,
   "metadata": {},
   "outputs": [],
   "source": [
    "X_train, y_train = getxy(0,190000)"
   ]
  },
  {
   "cell_type": "code",
   "execution_count": 23,
   "metadata": {},
   "outputs": [],
   "source": [
    "X_test, y_test = getxy(190001,191448)"
   ]
  },
  {
   "cell_type": "code",
   "execution_count": 24,
   "metadata": {},
   "outputs": [
    {
     "data": {
      "text/plain": [
       "((190000, 4), (190000, 1))"
      ]
     },
     "execution_count": 24,
     "metadata": {},
     "output_type": "execute_result"
    }
   ],
   "source": [
    "X_train.shape, y_train.shape"
   ]
  },
  {
   "cell_type": "code",
   "execution_count": 25,
   "metadata": {},
   "outputs": [
    {
     "data": {
      "text/plain": [
       "((1440, 4), (1440, 1))"
      ]
     },
     "execution_count": 25,
     "metadata": {},
     "output_type": "execute_result"
    }
   ],
   "source": [
    "X_test.shape, y_test.shape"
   ]
  },
  {
   "cell_type": "code",
   "execution_count": 26,
   "metadata": {},
   "outputs": [
    {
     "data": {
      "image/png": "[encoded data removed]",
      "text/plain": [
       "<Figure size 720x504 with 1 Axes>"
      ]
     },
     "metadata": {},
     "output_type": "display_data"
    }
   ],
   "source": [
    "fig, ax = plt.subplots(1,1, figsize=(10,7))\n",
    "ax.set_title('Comparison of retweets (samples of 100K tweets)')\n",
    "\n",
    "troll_retweets = np.sum(df_trolls['retweet'].sample(10000))\n",
    "nontroll_retweets = np.sum(df_users['retweet'].sample(10000))\n",
    "\n",
    "ax.bar(['troll'],troll_retweets,label='troll')\n",
    "ax.bar(['non-troll'],nontroll_retweets,label='non-troll')\n",
    "\n",
    "ax.legend()\n",
    "plt.show()\n"
   ]
  },
  {
   "cell_type": "markdown",
   "metadata": {},
   "source": [
    "### Tokenize words"
   ]
  },
  {
   "cell_type": "code",
   "execution_count": 27,
   "metadata": {},
   "outputs": [],
   "source": [
    "vocab_size=5000\n",
    "tokenizer=feature_extraction.text.CountVectorizer(stop_words=stopwords_set, max_features=vocab_size)\n",
    "tokenizer=tokenizer.fit(df['sin_stopwords'])"
   ]
  },
  {
   "cell_type": "code",
   "execution_count": 28,
   "metadata": {},
   "outputs": [],
   "source": [
    "X_train_tok=tokenizer.transform(X_train['content'])\n",
    "X_test_tok=tokenizer.transform(X_test['content'])"
   ]
  },
  {
   "cell_type": "markdown",
   "metadata": {},
   "source": [
    "### Standarize followers/following"
   ]
  },
  {
   "cell_type": "code",
   "execution_count": 29,
   "metadata": {},
   "outputs": [],
   "source": [
    "scaler = preprocessing.StandardScaler().fit(X_train[['followers','following']])"
   ]
  },
  {
   "cell_type": "code",
   "execution_count": 30,
   "metadata": {},
   "outputs": [
    {
     "data": {
      "text/plain": [
       "'rand means and scales: [415.71665789 418.20685789], [1438.81601929  754.11459929]'"
      ]
     },
     "execution_count": 30,
     "metadata": {},
     "output_type": "execute_result"
    }
   ],
   "source": [
    "'rand means and scales: {}, {}'.format(scaler.mean_, scaler.scale_)"
   ]
  },
  {
   "cell_type": "code",
   "execution_count": 31,
   "metadata": {},
   "outputs": [],
   "source": [
    "col_to_std = ['followers', 'following']\n",
    "X_train[col_to_std]=scaler.transform(X_train[col_to_std])\n",
    "X_test[col_to_std]=scaler.transform(X_test[col_to_std])"
   ]
  },
  {
   "cell_type": "code",
   "execution_count": 32,
   "metadata": {},
   "outputs": [
    {
     "data": {
      "text/html": [
       "<div>\n",
       "<style scoped>\n",
       "    .dataframe tbody tr th:only-of-type {\n",
       "        vertical-align: middle;\n",
       "    }\n",
       "\n",
       "    .dataframe tbody tr th {\n",
       "        vertical-align: top;\n",
       "    }\n",
       "\n",
       "    .dataframe thead th {\n",
       "        text-align: right;\n",
       "    }\n",
       "</style>\n",
       "<table border=\"1\" class=\"dataframe\">\n",
       "  <thead>\n",
       "    <tr style=\"text-align: right;\">\n",
       "      <th></th>\n",
       "      <th>followers</th>\n",
       "      <th>following</th>\n",
       "    </tr>\n",
       "  </thead>\n",
       "  <tbody>\n",
       "    <tr>\n",
       "      <th>837</th>\n",
       "      <td>0.364385</td>\n",
       "      <td>1.594974</td>\n",
       "    </tr>\n",
       "    <tr>\n",
       "      <th>90514</th>\n",
       "      <td>0.821706</td>\n",
       "      <td>2.646538</td>\n",
       "    </tr>\n",
       "    <tr>\n",
       "      <th>81582</th>\n",
       "      <td>-0.259739</td>\n",
       "      <td>-0.410026</td>\n",
       "    </tr>\n",
       "    <tr>\n",
       "      <th>3149</th>\n",
       "      <td>-0.028299</td>\n",
       "      <td>0.739666</td>\n",
       "    </tr>\n",
       "    <tr>\n",
       "      <th>14641</th>\n",
       "      <td>0.269168</td>\n",
       "      <td>0.129679</td>\n",
       "    </tr>\n",
       "  </tbody>\n",
       "</table>\n",
       "</div>"
      ],
      "text/plain": [
       "       followers  following\n",
       "837     0.364385   1.594974\n",
       "90514   0.821706   2.646538\n",
       "81582  -0.259739  -0.410026\n",
       "3149   -0.028299   0.739666\n",
       "14641   0.269168   0.129679"
      ]
     },
     "execution_count": 32,
     "metadata": {},
     "output_type": "execute_result"
    }
   ],
   "source": [
    "X_train[col_to_std].head()"
   ]
  },
  {
   "cell_type": "markdown",
   "metadata": {},
   "source": [
    "### Binarize outcome"
   ]
  },
  {
   "cell_type": "code",
   "execution_count": 33,
   "metadata": {},
   "outputs": [
    {
     "data": {
      "text/html": [
       "<div>\n",
       "<style scoped>\n",
       "    .dataframe tbody tr th:only-of-type {\n",
       "        vertical-align: middle;\n",
       "    }\n",
       "\n",
       "    .dataframe tbody tr th {\n",
       "        vertical-align: top;\n",
       "    }\n",
       "\n",
       "    .dataframe thead th {\n",
       "        text-align: right;\n",
       "    }\n",
       "</style>\n",
       "<table border=\"1\" class=\"dataframe\">\n",
       "  <thead>\n",
       "    <tr style=\"text-align: right;\">\n",
       "      <th></th>\n",
       "      <th>troll</th>\n",
       "    </tr>\n",
       "  </thead>\n",
       "  <tbody>\n",
       "    <tr>\n",
       "      <th>837</th>\n",
       "      <td>False</td>\n",
       "    </tr>\n",
       "    <tr>\n",
       "      <th>90514</th>\n",
       "      <td>True</td>\n",
       "    </tr>\n",
       "    <tr>\n",
       "      <th>81582</th>\n",
       "      <td>True</td>\n",
       "    </tr>\n",
       "    <tr>\n",
       "      <th>3149</th>\n",
       "      <td>False</td>\n",
       "    </tr>\n",
       "    <tr>\n",
       "      <th>14641</th>\n",
       "      <td>True</td>\n",
       "    </tr>\n",
       "  </tbody>\n",
       "</table>\n",
       "</div>"
      ],
      "text/plain": [
       "       troll\n",
       "837    False\n",
       "90514   True\n",
       "81582   True\n",
       "3149   False\n",
       "14641   True"
      ]
     },
     "execution_count": 33,
     "metadata": {},
     "output_type": "execute_result"
    }
   ],
   "source": [
    "y_train.head()"
   ]
  },
  {
   "cell_type": "code",
   "execution_count": 34,
   "metadata": {},
   "outputs": [],
   "source": [
    "bool_to_bin = lambda x: 1 if x else 0\n",
    "y_train['troll'] = y_train['troll'].apply(bool_to_bin)\n",
    "y_test['troll'] = y_test['troll'].apply(bool_to_bin)\n",
    "\n",
    "# binarize retweet colum\n",
    "X_train['retweet'] = X_train['retweet'].apply(bool_to_bin)\n",
    "X_test['retweet'] = X_test['retweet'].apply(bool_to_bin)"
   ]
  },
  {
   "cell_type": "markdown",
   "metadata": {},
   "source": [
    "### Concatenate features"
   ]
  },
  {
   "cell_type": "code",
   "execution_count": 35,
   "metadata": {},
   "outputs": [],
   "source": [
    "def concatenate_features(tok_matrix, data_df):\n",
    "    \"\"\" concatenate the tokenized matrix (scipy.sparse) with other features \"\"\"\n",
    "    sparse_cols = sparse.csr_matrix(data_df[['followers', 'following', 'retweet']])\n",
    "    combined = sparse.hstack([tok_matrix, sparse_cols])\n",
    "    return combined"
   ]
  },
  {
   "cell_type": "code",
   "execution_count": 36,
   "metadata": {},
   "outputs": [],
   "source": [
    "X_train_combined = concatenate_features(X_train_tok, X_train)\n",
    "X_test_combined = concatenate_features(X_test_tok, X_test)"
   ]
  },
  {
   "cell_type": "code",
   "execution_count": 37,
   "metadata": {},
   "outputs": [
    {
     "data": {
      "text/plain": [
       "(190000, 5003)"
      ]
     },
     "execution_count": 37,
     "metadata": {},
     "output_type": "execute_result"
    }
   ],
   "source": [
    "X_train_combined.shape"
   ]
  },
  {
   "cell_type": "markdown",
   "metadata": {},
   "source": [
    "## Training the model - Logistic Regresion"
   ]
  },
  {
   "cell_type": "code",
   "execution_count": 38,
   "metadata": {},
   "outputs": [
    {
     "name": "stderr",
     "output_type": "stream",
     "text": [
      "C:\\Users\\geancarlo\\Anaconda3\\envs\\venv\\lib\\site-packages\\sklearn\\linear_model\\logistic.py:432: FutureWarning: Default solver will be changed to 'lbfgs' in 0.22. Specify a solver to silence this warning.\n",
      "  FutureWarning)\n"
     ]
    }
   ],
   "source": [
    "logic_model = linear_model.LogisticRegression().fit(X_train_combined, y_train['troll'])"
   ]
  },
  {
   "cell_type": "code",
   "execution_count": 39,
   "metadata": {},
   "outputs": [
    {
     "data": {
      "text/plain": [
       "0.9166736842105263"
      ]
     },
     "execution_count": 39,
     "metadata": {},
     "output_type": "execute_result"
    }
   ],
   "source": [
    "logic_model.score(X_train_combined, y_train['troll'])"
   ]
  },
  {
   "cell_type": "code",
   "execution_count": 40,
   "metadata": {},
   "outputs": [
    {
     "data": {
      "text/plain": [
       "0.9111111111111111"
      ]
     },
     "execution_count": 40,
     "metadata": {},
     "output_type": "execute_result"
    }
   ],
   "source": [
    "logic_model.score(X_test_combined, y_test['troll'])"
   ]
  },
  {
   "cell_type": "markdown",
   "metadata": {},
   "source": [
    "## Creating Neural Net"
   ]
  },
  {
   "cell_type": "code",
   "execution_count": 42,
   "metadata": {},
   "outputs": [],
   "source": [
    "from keras.models import Sequential\n",
    "from keras.layers import Dense, Dropout, Activation"
   ]
  },
  {
   "cell_type": "code",
   "execution_count": 45,
   "metadata": {},
   "outputs": [
    {
     "data": {
      "text/plain": [
       "(5003,)"
      ]
     },
     "execution_count": 45,
     "metadata": {},
     "output_type": "execute_result"
    }
   ],
   "source": [
    "X_train_combined.shape[1:]"
   ]
  },
  {
   "cell_type": "code",
   "execution_count": 49,
   "metadata": {},
   "outputs": [
    {
     "name": "stderr",
     "output_type": "stream",
     "text": [
      "W0819 00:30:52.243973 15432 nn_ops.py:4224] Large dropout rate: 0.7 (>0.5). In TensorFlow 2.x, dropout() uses dropout rate instead of keep_prob. Please ensure that this is intended.\n",
      "W0819 00:30:52.306926 15432 nn_ops.py:4224] Large dropout rate: 0.7 (>0.5). In TensorFlow 2.x, dropout() uses dropout rate instead of keep_prob. Please ensure that this is intended.\n"
     ]
    }
   ],
   "source": [
    "model = Sequential()  # 5003 inputs\n",
    "model.add(Dense(1024, activation='relu', input_shape=X_train_combined.shape[1:])) # first layer\n",
    "model.add(Dropout(0.7))\n",
    "model.add(Dense(512, activation='relu'))  # second layer 1024 inputs\n",
    "model.add(Dropout(0.7))\n",
    "model.add(Dense(128, activation='relu'))  # third layer  512 inputs\n",
    "model.add(Dense(1, activation='sigmoid'))  # last layer"
   ]
  },
  {
   "cell_type": "code",
   "execution_count": 50,
   "metadata": {},
   "outputs": [
    {
     "name": "stdout",
     "output_type": "stream",
     "text": [
      "_________________________________________________________________\n",
      "Layer (type)                 Output Shape              Param #   \n",
      "=================================================================\n",
      "dense_5 (Dense)              (None, 1024)              5124096   \n",
      "_________________________________________________________________\n",
      "dropout_3 (Dropout)          (None, 1024)              0         \n",
      "_________________________________________________________________\n",
      "dense_6 (Dense)              (None, 512)               524800    \n",
      "_________________________________________________________________\n",
      "dropout_4 (Dropout)          (None, 512)               0         \n",
      "_________________________________________________________________\n",
      "dense_7 (Dense)              (None, 128)               65664     \n",
      "_________________________________________________________________\n",
      "dense_8 (Dense)              (None, 1)                 129       \n",
      "=================================================================\n",
      "Total params: 5,714,689\n",
      "Trainable params: 5,714,689\n",
      "Non-trainable params: 0\n",
      "_________________________________________________________________\n"
     ]
    }
   ],
   "source": [
    "model.summary()"
   ]
  },
  {
   "cell_type": "code",
   "execution_count": 51,
   "metadata": {},
   "outputs": [
    {
     "name": "stderr",
     "output_type": "stream",
     "text": [
      "W0819 00:39:13.504557 15432 deprecation_wrapper.py:119] From C:\\Users\\geancarlo\\Anaconda3\\envs\\venv\\lib\\site-packages\\keras\\optimizers.py:790: The name tf.train.Optimizer is deprecated. Please use tf.compat.v1.train.Optimizer instead.\n",
      "\n",
      "W0819 00:39:13.536527 15432 deprecation_wrapper.py:119] From C:\\Users\\geancarlo\\Anaconda3\\envs\\venv\\lib\\site-packages\\keras\\backend\\tensorflow_backend.py:3376: The name tf.log is deprecated. Please use tf.math.log instead.\n",
      "\n",
      "W0819 00:39:13.550520 15432 deprecation.py:323] From C:\\Users\\geancarlo\\Anaconda3\\envs\\venv\\lib\\site-packages\\tensorflow\\python\\ops\\nn_impl.py:180: add_dispatch_support.<locals>.wrapper (from tensorflow.python.ops.array_ops) is deprecated and will be removed in a future version.\n",
      "Instructions for updating:\n",
      "Use tf.where in 2.0, which has the same broadcast rule as np.where\n"
     ]
    }
   ],
   "source": [
    "model.compile(loss='binary_crossentropy', optimizer='adam', metrics=['accuracy'])"
   ]
  },
  {
   "cell_type": "code",
   "execution_count": 64,
   "metadata": {},
   "outputs": [],
   "source": [
    "# converting test scipy.sparse matrix to numpy\n",
    "X_test_matrix = X_test_combined.todense()\n",
    "X_train_matrix = X_train_combined.todense()"
   ]
  },
  {
   "cell_type": "code",
   "execution_count": 63,
   "metadata": {},
   "outputs": [
    {
     "name": "stdout",
     "output_type": "stream",
     "text": [
      "Precisión en el conjunto de prueba: 59.8611%\n"
     ]
    }
   ],
   "source": [
    "score = model.evaluate(X_test_matrix, y_test['troll'], verbose=0)\n",
    "accuracy = 100*score[1]\n",
    "\n",
    "print('Precisión en el conjunto de prueba: %.4f%%' % accuracy)"
   ]
  },
  {
   "cell_type": "code",
   "execution_count": 65,
   "metadata": {},
   "outputs": [
    {
     "name": "stdout",
     "output_type": "stream",
     "text": [
      "Train on 152000 samples, validate on 38000 samples\n",
      "Epoch 1/20\n",
      "152000/152000 [==============================] - 130s 853us/step - loss: 0.2891 - acc: 0.8829 - val_loss: 0.2088 - val_acc: 0.9153\n",
      "\n",
      "Epoch 00001: val_loss improved from inf to 0.20884, saving model to trolls.model.best.hdf5\n",
      "Epoch 2/20\n",
      "152000/152000 [==============================] - 140s 919us/step - loss: 0.1855 - acc: 0.9231 - val_loss: 0.1753 - val_acc: 0.9256\n",
      "\n",
      "Epoch 00002: val_loss improved from 0.20884 to 0.17526, saving model to trolls.model.best.hdf5\n",
      "Epoch 3/20\n",
      "152000/152000 [==============================] - 121s 794us/step - loss: 0.1438 - acc: 0.9386 - val_loss: 0.1716 - val_acc: 0.9302\n",
      "\n",
      "Epoch 00003: val_loss improved from 0.17526 to 0.17155, saving model to trolls.model.best.hdf5\n",
      "Epoch 4/20\n",
      "152000/152000 [==============================] - 114s 750us/step - loss: 0.1142 - acc: 0.9516 - val_loss: 0.1777 - val_acc: 0.9292\n",
      "\n",
      "Epoch 00004: val_loss did not improve from 0.17155\n",
      "Epoch 5/20\n",
      "152000/152000 [==============================] - 119s 780us/step - loss: 0.0966 - acc: 0.9610 - val_loss: 0.1863 - val_acc: 0.9320\n",
      "\n",
      "Epoch 00005: val_loss did not improve from 0.17155\n",
      "Epoch 6/20\n",
      "152000/152000 [==============================] - 125s 820us/step - loss: 0.0832 - acc: 0.9664 - val_loss: 0.1965 - val_acc: 0.9310\n",
      "\n",
      "Epoch 00006: val_loss did not improve from 0.17155\n",
      "Epoch 7/20\n",
      "152000/152000 [==============================] - 116s 763us/step - loss: 0.0742 - acc: 0.9706 - val_loss: 0.1976 - val_acc: 0.9312\n",
      "\n",
      "Epoch 00007: val_loss did not improve from 0.17155\n",
      "Epoch 8/20\n",
      "152000/152000 [==============================] - 105s 690us/step - loss: 0.0676 - acc: 0.9735 - val_loss: 0.2070 - val_acc: 0.9289\n",
      "\n",
      "Epoch 00008: val_loss did not improve from 0.17155\n",
      "Epoch 9/20\n",
      "152000/152000 [==============================] - 114s 747us/step - loss: 0.0613 - acc: 0.9759 - val_loss: 0.2118 - val_acc: 0.9250\n",
      "\n",
      "Epoch 00009: val_loss did not improve from 0.17155\n",
      "Epoch 10/20\n",
      "152000/152000 [==============================] - 112s 736us/step - loss: 0.0558 - acc: 0.9783 - val_loss: 0.2209 - val_acc: 0.9306\n",
      "\n",
      "Epoch 00010: val_loss did not improve from 0.17155\n",
      "Epoch 11/20\n",
      "152000/152000 [==============================] - 114s 749us/step - loss: 0.0528 - acc: 0.9797 - val_loss: 0.2193 - val_acc: 0.9293\n",
      "\n",
      "Epoch 00011: val_loss did not improve from 0.17155\n",
      "Epoch 12/20\n",
      "152000/152000 [==============================] - 115s 759us/step - loss: 0.0486 - acc: 0.9810 - val_loss: 0.2172 - val_acc: 0.9292\n",
      "\n",
      "Epoch 00012: val_loss did not improve from 0.17155\n",
      "Epoch 13/20\n",
      "152000/152000 [==============================] - 114s 752us/step - loss: 0.0464 - acc: 0.9822 - val_loss: 0.2324 - val_acc: 0.9316\n",
      "\n",
      "Epoch 00013: val_loss did not improve from 0.17155\n",
      "Epoch 14/20\n",
      "152000/152000 [==============================] - 109s 718us/step - loss: 0.0425 - acc: 0.9841 - val_loss: 0.2425 - val_acc: 0.9331\n",
      "\n",
      "Epoch 00014: val_loss did not improve from 0.17155\n",
      "Epoch 15/20\n",
      "152000/152000 [==============================] - 113s 742us/step - loss: 0.0412 - acc: 0.9846 - val_loss: 0.2399 - val_acc: 0.9339\n",
      "\n",
      "Epoch 00015: val_loss did not improve from 0.17155\n",
      "Epoch 16/20\n",
      "152000/152000 [==============================] - 111s 733us/step - loss: 0.0397 - acc: 0.9857 - val_loss: 0.2385 - val_acc: 0.9327\n",
      "\n",
      "Epoch 00016: val_loss did not improve from 0.17155\n",
      "Epoch 17/20\n",
      "152000/152000 [==============================] - 105s 690us/step - loss: 0.0369 - acc: 0.9868 - val_loss: 0.2462 - val_acc: 0.9360\n",
      "\n",
      "Epoch 00017: val_loss did not improve from 0.17155\n",
      "Epoch 18/20\n",
      "152000/152000 [==============================] - 119s 781us/step - loss: 0.0346 - acc: 0.9873 - val_loss: 0.2588 - val_acc: 0.9359\n",
      "\n",
      "Epoch 00018: val_loss did not improve from 0.17155\n",
      "Epoch 19/20\n",
      "152000/152000 [==============================] - 119s 781us/step - loss: 0.0346 - acc: 0.9879 - val_loss: 0.2510 - val_acc: 0.9365\n",
      "\n",
      "Epoch 00019: val_loss did not improve from 0.17155\n",
      "Epoch 20/20\n",
      "152000/152000 [==============================] - 109s 720us/step - loss: 0.0332 - acc: 0.9880 - val_loss: 0.2512 - val_acc: 0.9342\n",
      "\n",
      "Epoch 00020: val_loss did not improve from 0.17155\n"
     ]
    }
   ],
   "source": [
    "from keras.callbacks import ModelCheckpoint\n",
    "\n",
    "checkpointer = ModelCheckpoint(filepath='trolls.model.best.hdf5', verbose=1, save_best_only=True)\n",
    "hist = model.fit(X_train_matrix, y_train['troll'], batch_size=1024, epochs=20, validation_split=0.2, callbacks=[checkpointer], verbose=1, shuffle=True)"
   ]
  },
  {
   "cell_type": "code",
   "execution_count": 67,
   "metadata": {},
   "outputs": [
    {
     "name": "stdout",
     "output_type": "stream",
     "text": [
      "Precisión durante la prueba: 93.1944%\n"
     ]
    }
   ],
   "source": [
    "model.load_weights('trolls.model.best.hdf5')\n",
    "score = model.evaluate(X_test_matrix, y_test['troll'], verbose=0)\n",
    "accuracy = 100*score[1]\n",
    "\n",
    "# mostrar la precisión en prubea\n",
    "print('Precisión durante la prueba: %.4f%%' % accuracy)"
   ]
  },
  {
   "cell_type": "code",
   "execution_count": null,
   "metadata": {},
   "outputs": [],
   "source": []
  }
 ],
 "metadata": {
  "kernelspec": {
   "display_name": "Python 3",
   "language": "python",
   "name": "python3"
  },
  "language_info": {
   "codemirror_mode": {
    "name": "ipython",
    "version": 3
   },
   "file_extension": ".py",
   "mimetype": "text/x-python",
   "name": "python",
   "nbconvert_exporter": "python",
   "pygments_lexer": "ipython3",
   "version": "3.6.9"
  }
 },
 "nbformat": 4,
 "nbformat_minor": 2
}
